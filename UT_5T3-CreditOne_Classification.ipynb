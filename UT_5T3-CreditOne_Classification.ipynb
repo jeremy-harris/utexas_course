{
 "cells": [
  {
   "cell_type": "code",
   "execution_count": 1,
   "metadata": {},
   "outputs": [],
   "source": [
    "############################################\n",
    "#### UT Course 5 Task 3 - Classification ###\n",
    "############################################\n",
    "\n",
    "#imports: numpy, pandas, scipy, math, matplotlib\n",
    "import numpy as np\n",
    "import pandas as pd\n",
    "import scipy\n",
    "from math import sqrt\n",
    "import matplotlib.pyplot as plt\n",
    "\n",
    "#import estimators:\n",
    "from sklearn.ensemble import RandomForestRegressor\n",
    "from sklearn.linear_model import LinearRegression\n",
    "from sklearn.svm import SVR\n",
    "from sklearn import linear_model\n",
    "\n",
    "#import: model matrices\n",
    "from sklearn.metrics import mean_squared_error\n",
    "from sklearn.metrics import r2_score\n",
    "from sklearn.model_selection import cross_val_score\n",
    "\n",
    "#import: cross validation\n",
    "from sklearn.model_selection import train_test_split"
   ]
  },
  {
   "cell_type": "code",
   "execution_count": 2,
   "metadata": {},
   "outputs": [],
   "source": [
    "#import cleaned data from Task 5.2\n",
    "rawData = pd.read_csv('cleaned_credit_data.csv')"
   ]
  },
  {
   "cell_type": "code",
   "execution_count": 3,
   "metadata": {},
   "outputs": [],
   "source": [
    "### Clean up the data\n",
    "#rawData['age_by_decade'] = rawData['age_by_decade'].astype('category')\n",
    "rawData = rawData.drop(['Unnamed: 0'], axis = 1)\n"
   ]
  },
  {
   "cell_type": "code",
   "execution_count": 4,
   "metadata": {},
   "outputs": [
    {
     "name": "stdout",
     "output_type": "stream",
     "text": [
      "<class 'pandas.core.frame.DataFrame'>\n",
      "RangeIndex: 29203 entries, 0 to 29202\n",
      "Data columns (total 21 columns):\n",
      "LIMIT_BAL    29203 non-null int64\n",
      "SEX          29203 non-null int64\n",
      "EDUCATION    29203 non-null int64\n",
      "MARRIAGE     29203 non-null int64\n",
      "AGE          29203 non-null int64\n",
      "PAY_0        29203 non-null int64\n",
      "PAY_2        29203 non-null int64\n",
      "PAY_3        29203 non-null int64\n",
      "PAY_4        29203 non-null int64\n",
      "PAY_5        29203 non-null int64\n",
      "PAY_6        29203 non-null int64\n",
      "BILL_AMT2    29203 non-null int64\n",
      "BILL_AMT4    29203 non-null int64\n",
      "BILL_AMT6    29203 non-null int64\n",
      "PAY_AMT1     29203 non-null int64\n",
      "PAY_AMT2     29203 non-null int64\n",
      "PAY_AMT3     29203 non-null int64\n",
      "PAY_AMT4     29203 non-null int64\n",
      "PAY_AMT5     29203 non-null int64\n",
      "PAY_AMT6     29203 non-null int64\n",
      "default      29203 non-null int64\n",
      "dtypes: int64(21)\n",
      "memory usage: 4.7 MB\n"
     ]
    }
   ],
   "source": [
    "#rawData information\n",
    "rawData.info()\n",
    "#rawData.columns"
   ]
  },
  {
   "cell_type": "code",
   "execution_count": 5,
   "metadata": {},
   "outputs": [],
   "source": [
    "################# This is where I start the classification part of the exercise ##########################\n",
    "# estimators & reporting tools\n",
    "from sklearn.ensemble import RandomForestClassifier\n",
    "from sklearn.linear_model import LogisticRegression\n",
    "from sklearn.neighbors import KNeighborsClassifier\n",
    "from sklearn.preprocessing import OneHotEncoder\n",
    "from sklearn.metrics import confusion_matrix\n",
    "from sklearn.metrics import classification_report\n",
    "from sklearn import model_selection"
   ]
  },
  {
   "cell_type": "code",
   "execution_count": 6,
   "metadata": {},
   "outputs": [
    {
     "data": {
      "text/html": [
       "<div>\n",
       "<style scoped>\n",
       "    .dataframe tbody tr th:only-of-type {\n",
       "        vertical-align: middle;\n",
       "    }\n",
       "\n",
       "    .dataframe tbody tr th {\n",
       "        vertical-align: top;\n",
       "    }\n",
       "\n",
       "    .dataframe thead th {\n",
       "        text-align: right;\n",
       "    }\n",
       "</style>\n",
       "<table border=\"1\" class=\"dataframe\">\n",
       "  <thead>\n",
       "    <tr style=\"text-align: right;\">\n",
       "      <th></th>\n",
       "      <th>LIMIT_BAL</th>\n",
       "      <th>SEX</th>\n",
       "      <th>EDUCATION</th>\n",
       "      <th>MARRIAGE</th>\n",
       "      <th>AGE</th>\n",
       "      <th>PAY_0</th>\n",
       "      <th>PAY_2</th>\n",
       "      <th>PAY_3</th>\n",
       "      <th>PAY_4</th>\n",
       "      <th>PAY_5</th>\n",
       "      <th>...</th>\n",
       "      <th>BILL_AMT2</th>\n",
       "      <th>BILL_AMT4</th>\n",
       "      <th>BILL_AMT6</th>\n",
       "      <th>PAY_AMT1</th>\n",
       "      <th>PAY_AMT2</th>\n",
       "      <th>PAY_AMT3</th>\n",
       "      <th>PAY_AMT4</th>\n",
       "      <th>PAY_AMT5</th>\n",
       "      <th>PAY_AMT6</th>\n",
       "      <th>default</th>\n",
       "    </tr>\n",
       "  </thead>\n",
       "  <tbody>\n",
       "    <tr>\n",
       "      <th>0</th>\n",
       "      <td>20000</td>\n",
       "      <td>2</td>\n",
       "      <td>2</td>\n",
       "      <td>1</td>\n",
       "      <td>24</td>\n",
       "      <td>2</td>\n",
       "      <td>2</td>\n",
       "      <td>-1</td>\n",
       "      <td>-1</td>\n",
       "      <td>-2</td>\n",
       "      <td>...</td>\n",
       "      <td>3102</td>\n",
       "      <td>0</td>\n",
       "      <td>0</td>\n",
       "      <td>0</td>\n",
       "      <td>689</td>\n",
       "      <td>0</td>\n",
       "      <td>0</td>\n",
       "      <td>0</td>\n",
       "      <td>0</td>\n",
       "      <td>1</td>\n",
       "    </tr>\n",
       "    <tr>\n",
       "      <th>1</th>\n",
       "      <td>120000</td>\n",
       "      <td>2</td>\n",
       "      <td>2</td>\n",
       "      <td>2</td>\n",
       "      <td>26</td>\n",
       "      <td>-1</td>\n",
       "      <td>2</td>\n",
       "      <td>0</td>\n",
       "      <td>0</td>\n",
       "      <td>0</td>\n",
       "      <td>...</td>\n",
       "      <td>1725</td>\n",
       "      <td>3272</td>\n",
       "      <td>3261</td>\n",
       "      <td>0</td>\n",
       "      <td>1000</td>\n",
       "      <td>1000</td>\n",
       "      <td>1000</td>\n",
       "      <td>0</td>\n",
       "      <td>2000</td>\n",
       "      <td>1</td>\n",
       "    </tr>\n",
       "    <tr>\n",
       "      <th>2</th>\n",
       "      <td>90000</td>\n",
       "      <td>2</td>\n",
       "      <td>2</td>\n",
       "      <td>2</td>\n",
       "      <td>34</td>\n",
       "      <td>0</td>\n",
       "      <td>0</td>\n",
       "      <td>0</td>\n",
       "      <td>0</td>\n",
       "      <td>0</td>\n",
       "      <td>...</td>\n",
       "      <td>14027</td>\n",
       "      <td>14331</td>\n",
       "      <td>15549</td>\n",
       "      <td>1518</td>\n",
       "      <td>1500</td>\n",
       "      <td>1000</td>\n",
       "      <td>1000</td>\n",
       "      <td>1000</td>\n",
       "      <td>5000</td>\n",
       "      <td>0</td>\n",
       "    </tr>\n",
       "    <tr>\n",
       "      <th>3</th>\n",
       "      <td>50000</td>\n",
       "      <td>2</td>\n",
       "      <td>2</td>\n",
       "      <td>1</td>\n",
       "      <td>37</td>\n",
       "      <td>0</td>\n",
       "      <td>0</td>\n",
       "      <td>0</td>\n",
       "      <td>0</td>\n",
       "      <td>0</td>\n",
       "      <td>...</td>\n",
       "      <td>48233</td>\n",
       "      <td>28314</td>\n",
       "      <td>29547</td>\n",
       "      <td>2000</td>\n",
       "      <td>2019</td>\n",
       "      <td>1200</td>\n",
       "      <td>1100</td>\n",
       "      <td>1069</td>\n",
       "      <td>1000</td>\n",
       "      <td>0</td>\n",
       "    </tr>\n",
       "    <tr>\n",
       "      <th>4</th>\n",
       "      <td>50000</td>\n",
       "      <td>1</td>\n",
       "      <td>2</td>\n",
       "      <td>1</td>\n",
       "      <td>57</td>\n",
       "      <td>-1</td>\n",
       "      <td>0</td>\n",
       "      <td>-1</td>\n",
       "      <td>0</td>\n",
       "      <td>0</td>\n",
       "      <td>...</td>\n",
       "      <td>5670</td>\n",
       "      <td>20940</td>\n",
       "      <td>19131</td>\n",
       "      <td>2000</td>\n",
       "      <td>36681</td>\n",
       "      <td>10000</td>\n",
       "      <td>9000</td>\n",
       "      <td>689</td>\n",
       "      <td>679</td>\n",
       "      <td>0</td>\n",
       "    </tr>\n",
       "  </tbody>\n",
       "</table>\n",
       "<p>5 rows × 21 columns</p>\n",
       "</div>"
      ],
      "text/plain": [
       "   LIMIT_BAL  SEX  EDUCATION  MARRIAGE  AGE  PAY_0  PAY_2  PAY_3  PAY_4  \\\n",
       "0      20000    2          2         1   24      2      2     -1     -1   \n",
       "1     120000    2          2         2   26     -1      2      0      0   \n",
       "2      90000    2          2         2   34      0      0      0      0   \n",
       "3      50000    2          2         1   37      0      0      0      0   \n",
       "4      50000    1          2         1   57     -1      0     -1      0   \n",
       "\n",
       "   PAY_5   ...     BILL_AMT2  BILL_AMT4  BILL_AMT6  PAY_AMT1  PAY_AMT2  \\\n",
       "0     -2   ...          3102          0          0         0       689   \n",
       "1      0   ...          1725       3272       3261         0      1000   \n",
       "2      0   ...         14027      14331      15549      1518      1500   \n",
       "3      0   ...         48233      28314      29547      2000      2019   \n",
       "4      0   ...          5670      20940      19131      2000     36681   \n",
       "\n",
       "   PAY_AMT3  PAY_AMT4  PAY_AMT5  PAY_AMT6  default  \n",
       "0         0         0         0         0        1  \n",
       "1      1000      1000         0      2000        1  \n",
       "2      1000      1000      1000      5000        0  \n",
       "3      1200      1100      1069      1000        0  \n",
       "4     10000      9000       689       679        0  \n",
       "\n",
       "[5 rows x 21 columns]"
      ]
     },
     "execution_count": 6,
     "metadata": {},
     "output_type": "execute_result"
    }
   ],
   "source": [
    "# Let's take a look at the current dataset\n",
    "rawData.head()"
   ]
  },
  {
   "cell_type": "code",
   "execution_count": 7,
   "metadata": {},
   "outputs": [],
   "source": [
    "# dependent variable\n",
    "y = rawData['default']\n",
    "X = rawData\n",
    "X = rawData.drop(['default'], axis = 1)"
   ]
  },
  {
   "cell_type": "code",
   "execution_count": 8,
   "metadata": {},
   "outputs": [
    {
     "name": "stdout",
     "output_type": "stream",
     "text": [
      "<class 'pandas.core.frame.DataFrame'>\n",
      "RangeIndex: 29203 entries, 0 to 29202\n",
      "Data columns (total 20 columns):\n",
      "LIMIT_BAL    29203 non-null int64\n",
      "SEX          29203 non-null int64\n",
      "EDUCATION    29203 non-null int64\n",
      "MARRIAGE     29203 non-null int64\n",
      "AGE          29203 non-null int64\n",
      "PAY_0        29203 non-null int64\n",
      "PAY_2        29203 non-null int64\n",
      "PAY_3        29203 non-null int64\n",
      "PAY_4        29203 non-null int64\n",
      "PAY_5        29203 non-null int64\n",
      "PAY_6        29203 non-null int64\n",
      "BILL_AMT2    29203 non-null int64\n",
      "BILL_AMT4    29203 non-null int64\n",
      "BILL_AMT6    29203 non-null int64\n",
      "PAY_AMT1     29203 non-null int64\n",
      "PAY_AMT2     29203 non-null int64\n",
      "PAY_AMT3     29203 non-null int64\n",
      "PAY_AMT4     29203 non-null int64\n",
      "PAY_AMT5     29203 non-null int64\n",
      "PAY_AMT6     29203 non-null int64\n",
      "dtypes: int64(20)\n",
      "memory usage: 4.5 MB\n"
     ]
    }
   ],
   "source": [
    "# First thing is to perform OneHotEncoding to get data type out of categories and into numerical\n",
    "\n",
    "\n",
    "#get rid of negative values for PAY\n",
    "X.PAY_0 = X.PAY_0 +2\n",
    "X.PAY_2 = X.PAY_2 +2\n",
    "X.PAY_3 = X.PAY_3 +2\n",
    "X.PAY_4 = X.PAY_4 +2\n",
    "X.PAY_5 = X.PAY_5 +2\n",
    "X.PAY_6 = X.PAY_6 +2\n",
    "X.info()"
   ]
  },
  {
   "cell_type": "code",
   "execution_count": 9,
   "metadata": {},
   "outputs": [],
   "source": [
    "# Split Data #\n",
    "# Split the data into train/test - 70/30\n",
    "X_train, X_test, y_train, y_test = train_test_split(X, y, test_size=0.3, random_state=333)"
   ]
  },
  {
   "cell_type": "code",
   "execution_count": 10,
   "metadata": {},
   "outputs": [
    {
     "name": "stdout",
     "output_type": "stream",
     "text": [
      "Accuracy of random foreest classifier on test set: 0.83\n"
     ]
    }
   ],
   "source": [
    "### Random Forrest ###\n",
    "# adjusted n_estimators - optimal was 15, max_depth optimal was 4\n",
    "rf = RandomForestClassifier(n_estimators = 15, max_depth = 4, random_state = 333)\n",
    "rf.fit(X_train, y_train)\n",
    "rf_ypred = rf.predict(X_test)\n",
    "print('Accuracy of random foreest classifier on test set: {:.2f}'.format(rf.score(X_test, y_test)))"
   ]
  },
  {
   "cell_type": "code",
   "execution_count": 11,
   "metadata": {},
   "outputs": [
    {
     "name": "stderr",
     "output_type": "stream",
     "text": [
      "C:\\Users\\Jeremy\\Anaconda3\\lib\\site-packages\\sklearn\\linear_model\\logistic.py:433: FutureWarning: Default solver will be changed to 'lbfgs' in 0.22. Specify a solver to silence this warning.\n",
      "  FutureWarning)\n"
     ]
    },
    {
     "name": "stdout",
     "output_type": "stream",
     "text": [
      "Accuracy of logistic regression classifier on test set: 0.82\n"
     ]
    }
   ],
   "source": [
    "### Logistic Regression ###\n",
    "# adjusted max_iter with no effect, penalty did have an effect with optimal being l1 instead of default l2\n",
    "logreg = LogisticRegression(penalty='l1', random_state=333)\n",
    "logreg.fit(X_train, y_train)\n",
    "log_ypred = logreg.predict(X_test)\n",
    "print('Accuracy of logistic regression classifier on test set: {:.2f}'.format(logreg.score(X_test, y_test)))"
   ]
  },
  {
   "cell_type": "code",
   "execution_count": 12,
   "metadata": {},
   "outputs": [
    {
     "name": "stdout",
     "output_type": "stream",
     "text": [
      "Accuracy of logistic regression classifier on test set: 0.79\n"
     ]
    }
   ],
   "source": [
    "### KNN Regression ###\n",
    "# adjusted n_neighbors & algorithm -- n_neighbors of 20 raised it from .78 to .79, algorithm had no effect\n",
    "knn = KNeighborsClassifier(n_neighbors=20, algorithm='auto')\n",
    "knn.fit(X_train, y_train)\n",
    "log_yknn = knn.predict(X_test)\n",
    "print('Accuracy of logistic regression classifier on test set: {:.2f}'.format(knn.score(X_test, y_test)))"
   ]
  },
  {
   "cell_type": "code",
   "execution_count": 13,
   "metadata": {},
   "outputs": [],
   "source": [
    "# Setup all models -- I did this manually above. \n",
    "outcome = []\n",
    "model_names = []\n",
    "models = [('RF', RandomForestClassifier(n_estimators = 15, max_depth = 4, random_state = 333)), \n",
    "          ('LR', LogisticRegression(penalty='l1', random_state=333, solver='liblinear')), \n",
    "          ('KNN', KNeighborsClassifier(n_neighbors=20, algorithm='auto'))]"
   ]
  },
  {
   "cell_type": "code",
   "execution_count": 14,
   "metadata": {},
   "outputs": [
    {
     "name": "stdout",
     "output_type": "stream",
     "text": [
      "RF| Mean=0.823684 STD=0.014000\n",
      "LR| Mean=0.814643 STD=0.013222\n",
      "KNN| Mean=0.784132 STD=0.016645\n"
     ]
    }
   ],
   "source": [
    "# this for loop will use k-fold validation to evaluate each algorithm with a 10-fold cross validation\n",
    "random_seed = 333\n",
    "for model_name, model in models:\n",
    "    k_fold_validation = model_selection.KFold(n_splits=10, random_state=random_seed)\n",
    "    results = model_selection.cross_val_score(model, X, y, cv=k_fold_validation, scoring='accuracy')\n",
    "    outcome.append(results)\n",
    "    model_names.append(model_name)\n",
    "    output_message = \"%s| Mean=%f STD=%f\" % (model_name, results.mean(), results.std())\n",
    "    print(output_message)"
   ]
  },
  {
   "cell_type": "code",
   "execution_count": 15,
   "metadata": {
    "scrolled": true
   },
   "outputs": [
    {
     "data": {
      "image/png": "[encoded data removed]",
      "text/plain": [
       "<Figure size 432x288 with 1 Axes>"
      ]
     },
     "metadata": {
      "needs_background": "light"
     },
     "output_type": "display_data"
    }
   ],
   "source": [
    "# Plot the results of the models against each other\n",
    "fig = plt.figure()\n",
    "fig.suptitle('Machine Learning Model Comparison')\n",
    "ax = fig.add_subplot(111)\n",
    "plt.boxplot(outcome)\n",
    "ax.set_xticklabels(model_names)\n",
    "plt.show()"
   ]
  },
  {
   "cell_type": "code",
   "execution_count": 19,
   "metadata": {},
   "outputs": [
    {
     "data": {
      "text/plain": [
       "Index(['LIMIT_BAL', 'SEX', 'EDUCATION', 'MARRIAGE', 'AGE', 'PAY_0', 'PAY_2',\n",
       "       'PAY_3', 'PAY_4', 'PAY_5', 'PAY_6', 'BILL_AMT2', 'BILL_AMT4',\n",
       "       'BILL_AMT6', 'PAY_AMT1', 'PAY_AMT2', 'PAY_AMT3', 'PAY_AMT4', 'PAY_AMT5',\n",
       "       'PAY_AMT6'],\n",
       "      dtype='object')"
      ]
     },
     "execution_count": 19,
     "metadata": {},
     "output_type": "execute_result"
    }
   ],
   "source": [
    "X.columns"
   ]
  },
  {
   "cell_type": "code",
   "execution_count": 20,
   "metadata": {},
   "outputs": [],
   "source": [
    "#Rename columns for better reporting\n",
    "X.columns = ['LIMIT_BAL', 'SEX', 'EDUCATION', 'MARRIAGE', 'AGE', 'SEPT_DEFAULT', 'AUG_DEFAULT', 'JULY_DEFAULT', \n",
    "            'JUNE_DEFAULT', 'MAY_DEFAULT', 'APRIL_DEFAULT', 'BILL_AMT2', 'BILL_AMT4', 'BILL_AMT6',\n",
    "            'SEPT_PAID', 'AUG_PAID', 'JULY_PAID', 'JUNE_PAID', 'MAY_PAID', 'APRIL_PAID']"
   ]
  },
  {
   "cell_type": "code",
   "execution_count": 23,
   "metadata": {},
   "outputs": [
    {
     "data": {
      "image/png": "[encoded data removed]",
      "text/plain": [
       "<Figure size 432x288 with 1 Axes>"
      ]
     },
     "metadata": {
      "needs_background": "light"
     },
     "output_type": "display_data"
    }
   ],
   "source": [
    "#Plot feature importance of the best model - Random Forsest\n",
    "feat_importances = pd.Series(rf.feature_importances_, index=X.columns)\n",
    "feat_importances.nlargest(10).plot(kind='barh')\n",
    "plt.xlabel(\"Value Correlation Score\")\n",
    "plt.title(\"Value Correlation to Loan Default\")\n",
    "plt.show()"
   ]
  }
 ],
 "metadata": {
  "kernelspec": {
   "display_name": "Python 3",
   "language": "python",
   "name": "python3"
  },
  "language_info": {
   "codemirror_mode": {
    "name": "ipython",
    "version": 3
   },
   "file_extension": ".py",
   "mimetype": "text/x-python",
   "name": "python",
   "nbconvert_exporter": "python",
   "pygments_lexer": "ipython3",
   "version": "3.7.1"
  }
 },
 "nbformat": 4,
 "nbformat_minor": 2
}
